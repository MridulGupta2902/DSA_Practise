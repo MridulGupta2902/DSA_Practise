{
 "cells": [
  {
   "cell_type": "code",
   "execution_count": 112,
   "metadata": {},
   "outputs": [],
   "source": [
    "import pandas as pd\n",
    "import numpy as np"
   ]
  },
  {
   "cell_type": "code",
   "execution_count": 113,
   "metadata": {},
   "outputs": [],
   "source": [
    "df=pd.read_excel(\"Name_Only.xlsx\", sheet_name=\"Sheet1\")"
   ]
  },
  {
   "cell_type": "code",
   "execution_count": 114,
   "metadata": {},
   "outputs": [
    {
     "name": "stdout",
     "output_type": "stream",
     "text": [
      "        S  No           CONTACT NAME\n",
      "0            1      Mr  Anil  Mangla\n",
      "1            2    Mr  Imtiaz  Maniar\n",
      "2            3    Mr  Gurmeet  Singh\n",
      "3            4   Mr  Tajinder  Singh\n",
      "4            5  Mr  Balvinder  Singh\n",
      "...        ...                   ...\n",
      "249996  249997                      \n",
      "249997  249998     Mr  Rohit Patidar\n",
      "249998  249999                   NaN\n",
      "249999  250000          Mr  SUNDARAM\n",
      "250000  250001                   NaN\n",
      "\n",
      "[250001 rows x 2 columns]\n"
     ]
    }
   ],
   "source": [
    "print(df)\n"
   ]
  },
  {
   "cell_type": "code",
   "execution_count": 115,
   "metadata": {},
   "outputs": [
    {
     "name": "stdout",
     "output_type": "stream",
     "text": [
      "0             Mr  Anil  Mangla\n",
      "1           Mr  Imtiaz  Maniar\n",
      "2           Mr  Gurmeet  Singh\n",
      "3          Mr  Tajinder  Singh\n",
      "4         Mr  Balvinder  Singh\n",
      "                  ...         \n",
      "249996                        \n",
      "249997       Mr  Rohit Patidar\n",
      "249998                        \n",
      "249999            Mr  SUNDARAM\n",
      "250000                        \n",
      "Name: CONTACT NAME, Length: 250001, dtype: object\n"
     ]
    },
    {
     "name": "stderr",
     "output_type": "stream",
     "text": [
      "C:\\Users\\Mridul\\AppData\\Local\\Temp\\ipykernel_13400\\3073144624.py:4: FutureWarning: The default value of regex will change from True to False in a future version.\n",
      "  df['CONTACT NAME'] = df['CONTACT NAME'].str.replace(\"[?:`-]\",\"\")\n"
     ]
    }
   ],
   "source": [
    "from nameparser import HumanName\n",
    "df['CONTACT NAME']=df['CONTACT NAME'].fillna('').apply(str)\n",
    "df['CONTACT NAME'] = df['CONTACT NAME'].str.strip().replace(\"[?:`-/]\",\" \")\n",
    "df['CONTACT NAME'] = df['CONTACT NAME'].str.replace(\"[?:`-]\",\"\")\n",
    "\n",
    "print(df['CONTACT NAME'])"
   ]
  },
  {
   "cell_type": "code",
   "execution_count": 109,
   "metadata": {},
   "outputs": [
    {
     "data": {
      "text/html": [
       "<div>\n",
       "<style scoped>\n",
       "    .dataframe tbody tr th:only-of-type {\n",
       "        vertical-align: middle;\n",
       "    }\n",
       "\n",
       "    .dataframe tbody tr th {\n",
       "        vertical-align: top;\n",
       "    }\n",
       "\n",
       "    .dataframe thead th {\n",
       "        text-align: right;\n",
       "    }\n",
       "</style>\n",
       "<table border=\"1\" class=\"dataframe\">\n",
       "  <thead>\n",
       "    <tr style=\"text-align: right;\">\n",
       "      <th></th>\n",
       "      <th>S  No</th>\n",
       "      <th>title</th>\n",
       "      <th>first</th>\n",
       "      <th>middle</th>\n",
       "      <th>last</th>\n",
       "      <th>suffix</th>\n",
       "      <th>nickname</th>\n",
       "    </tr>\n",
       "  </thead>\n",
       "  <tbody>\n",
       "    <tr>\n",
       "      <th>0</th>\n",
       "      <td>1</td>\n",
       "      <td>Mr</td>\n",
       "      <td>Anil</td>\n",
       "      <td></td>\n",
       "      <td>Mangla</td>\n",
       "      <td></td>\n",
       "      <td></td>\n",
       "    </tr>\n",
       "    <tr>\n",
       "      <th>1</th>\n",
       "      <td>2</td>\n",
       "      <td>Mr</td>\n",
       "      <td>Imtiaz</td>\n",
       "      <td></td>\n",
       "      <td>Maniar</td>\n",
       "      <td></td>\n",
       "      <td></td>\n",
       "    </tr>\n",
       "    <tr>\n",
       "      <th>2</th>\n",
       "      <td>3</td>\n",
       "      <td>Mr</td>\n",
       "      <td>Gurmeet</td>\n",
       "      <td></td>\n",
       "      <td>Singh</td>\n",
       "      <td></td>\n",
       "      <td></td>\n",
       "    </tr>\n",
       "    <tr>\n",
       "      <th>3</th>\n",
       "      <td>4</td>\n",
       "      <td>Mr</td>\n",
       "      <td>Tajinder</td>\n",
       "      <td></td>\n",
       "      <td>Singh</td>\n",
       "      <td></td>\n",
       "      <td></td>\n",
       "    </tr>\n",
       "    <tr>\n",
       "      <th>4</th>\n",
       "      <td>5</td>\n",
       "      <td>Mr</td>\n",
       "      <td>Balvinder</td>\n",
       "      <td></td>\n",
       "      <td>Singh</td>\n",
       "      <td></td>\n",
       "      <td></td>\n",
       "    </tr>\n",
       "    <tr>\n",
       "      <th>...</th>\n",
       "      <td>...</td>\n",
       "      <td>...</td>\n",
       "      <td>...</td>\n",
       "      <td>...</td>\n",
       "      <td>...</td>\n",
       "      <td>...</td>\n",
       "      <td>...</td>\n",
       "    </tr>\n",
       "    <tr>\n",
       "      <th>249996</th>\n",
       "      <td>249997</td>\n",
       "      <td></td>\n",
       "      <td></td>\n",
       "      <td></td>\n",
       "      <td></td>\n",
       "      <td></td>\n",
       "      <td></td>\n",
       "    </tr>\n",
       "    <tr>\n",
       "      <th>249997</th>\n",
       "      <td>249998</td>\n",
       "      <td>Mr</td>\n",
       "      <td>Rohit</td>\n",
       "      <td></td>\n",
       "      <td>Patidar</td>\n",
       "      <td></td>\n",
       "      <td></td>\n",
       "    </tr>\n",
       "    <tr>\n",
       "      <th>249998</th>\n",
       "      <td>249999</td>\n",
       "      <td></td>\n",
       "      <td></td>\n",
       "      <td></td>\n",
       "      <td></td>\n",
       "      <td></td>\n",
       "      <td></td>\n",
       "    </tr>\n",
       "    <tr>\n",
       "      <th>249999</th>\n",
       "      <td>250000</td>\n",
       "      <td>Mr</td>\n",
       "      <td></td>\n",
       "      <td></td>\n",
       "      <td>SUNDARAM</td>\n",
       "      <td></td>\n",
       "      <td></td>\n",
       "    </tr>\n",
       "    <tr>\n",
       "      <th>250000</th>\n",
       "      <td>250001</td>\n",
       "      <td></td>\n",
       "      <td></td>\n",
       "      <td></td>\n",
       "      <td></td>\n",
       "      <td></td>\n",
       "      <td></td>\n",
       "    </tr>\n",
       "  </tbody>\n",
       "</table>\n",
       "<p>250001 rows × 7 columns</p>\n",
       "</div>"
      ],
      "text/plain": [
       "        S  No  title      first middle      last suffix nickname\n",
       "0            1    Mr       Anil           Mangla                \n",
       "1            2    Mr     Imtiaz           Maniar                \n",
       "2            3    Mr    Gurmeet            Singh                \n",
       "3            4    Mr   Tajinder            Singh                \n",
       "4            5    Mr  Balvinder            Singh                \n",
       "...        ...   ...        ...    ...       ...    ...      ...\n",
       "249996  249997                                                  \n",
       "249997  249998    Mr      Rohit          Patidar                \n",
       "249998  249999                                                  \n",
       "249999  250000    Mr                    SUNDARAM                \n",
       "250000  250001                                                  \n",
       "\n",
       "[250001 rows x 7 columns]"
      ]
     },
     "execution_count": 109,
     "metadata": {},
     "output_type": "execute_result"
    }
   ],
   "source": [
    "df[\"title\"] = df[\"CONTACT NAME\"].apply(lambda x: HumanName(x).title)\n",
    "df[\"first\"] = df[\"CONTACT NAME\"].apply(lambda x: HumanName(x).first).replace(\"[_x000D_]\",\" \")\n",
    "df[\"middle\"] = df[\"CONTACT NAME\"].apply(lambda x: HumanName(x).middle)\n",
    "df[\"last\"] = df[\"CONTACT NAME\"].apply(lambda x: HumanName(x).last)\n",
    "df[\"suffix\"] = df[\"CONTACT NAME\"].apply(lambda x: HumanName(x).suffix)\n",
    "df[\"nickname\"] = df[\"CONTACT NAME\"].apply(lambda x: HumanName(x).nickname)\n",
    " \n",
    "df.drop('CONTACT NAME', axis=1)"
   ]
  },
  {
   "cell_type": "code",
   "execution_count": 110,
   "metadata": {},
   "outputs": [],
   "source": [
    "df[\"First_Name_Length\"]= df[\"first\"].str.len()\n",
    "df['Final_First_Name'] = np.where(df['First_Name_Length'] < 3, df['first']+\" \"+df['middle']+\" \"+df['last'], df['first'])\n",
    "df['Final_First_Name']=df['Final_First_Name'].str.strip()"
   ]
  },
  {
   "cell_type": "code",
   "execution_count": 111,
   "metadata": {},
   "outputs": [],
   "source": [
    "df.to_csv(\"Corrected_Name.csv\")"
   ]
  }
 ],
 "metadata": {
  "kernelspec": {
   "display_name": "Python 3.10.5 64-bit",
   "language": "python",
   "name": "python3"
  },
  "language_info": {
   "codemirror_mode": {
    "name": "ipython",
    "version": 3
   },
   "file_extension": ".py",
   "mimetype": "text/x-python",
   "name": "python",
   "nbconvert_exporter": "python",
   "pygments_lexer": "ipython3",
   "version": "3.10.5"
  },
  "orig_nbformat": 4,
  "vscode": {
   "interpreter": {
    "hash": "6f2fec2a2a6a900af9566e0039a6d766acbd52831ef00b8877c4a1433969d6bf"
   }
  }
 },
 "nbformat": 4,
 "nbformat_minor": 2
}
